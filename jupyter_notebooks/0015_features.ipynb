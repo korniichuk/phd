{
 "cells": [
  {
   "cell_type": "markdown",
   "metadata": {},
   "source": [
    "# Features\n",
    "## Add more features"
   ]
  },
  {
   "cell_type": "code",
   "execution_count": null,
   "metadata": {},
   "outputs": [],
   "source": [
    "import pandas as pd\n",
    "from pandas_profiling import ProfileReport\n",
    "\n",
    "from features import acs, ass, aws\n",
    "from features import acw, asw\n",
    "from features import pdw, pew, pmw, ppw, psw, puw\n",
    "from promovolt.readability import sentence_counter, word_counter \n",
    "from promovolt.syllables import syllable_counter"
   ]
  },
  {
   "cell_type": "code",
   "execution_count": null,
   "metadata": {},
   "outputs": [],
   "source": [
    "df = pd.read_pickle('readability_extra_20201124.pkl')"
   ]
  },
  {
   "cell_type": "code",
   "execution_count": null,
   "metadata": {},
   "outputs": [],
   "source": [
    "df['acs'] =  df.text.apply(acs)\n",
    "df['ass'] =  df.text.apply(ass)\n",
    "df['aws'] =  df.text.apply(aws)\n",
    "\n",
    "df['acw'] =  df.text.apply(acw)\n",
    "df['asw'] =  df.text.apply(asw)\n",
    "\n",
    "df['pdw'] =  df.text.apply(pdw)\n",
    "df['pew'] =  df.text.apply(pew)\n",
    "df['pmw'] =  df.text.apply(pmw)\n",
    "df['ppw'] =  df.text.apply(ppw)\n",
    "df['psw'] =  df.text.apply(psw)\n",
    "df['puw'] =  df.text.apply(puw)"
   ]
  },
  {
   "cell_type": "code",
   "execution_count": null,
   "metadata": {},
   "outputs": [],
   "source": [
    "def sentences(text):\n",
    "    sentences_num, _ = sentence_counter(text, 'en')\n",
    "    return sentences_num\n",
    "df['sentences'] = df.text.apply(sentences)"
   ]
  },
  {
   "cell_type": "code",
   "execution_count": null,
   "metadata": {},
   "outputs": [],
   "source": [
    "def words(text):\n",
    "    words_num, _ = word_counter(text, 'en')\n",
    "    return words_num\n",
    "df['words'] = df.text.apply(words)"
   ]
  },
  {
   "cell_type": "code",
   "execution_count": null,
   "metadata": {},
   "outputs": [],
   "source": [
    "def syllables(text):\n",
    "    _, words = word_counter(text, 'en')\n",
    "    syllables_num = 0\n",
    "    for word in words:\n",
    "        syllables_num += syllable_counter(word)\n",
    "    return syllables_num\n",
    "df['syllables'] =  df.text.apply(syllables)"
   ]
  },
  {
   "cell_type": "code",
   "execution_count": null,
   "metadata": {},
   "outputs": [],
   "source": [
    "df['characters'] = df.text.str.len()"
   ]
  },
  {
   "cell_type": "markdown",
   "metadata": {},
   "source": [
    "### Save to pickle file"
   ]
  },
  {
   "cell_type": "code",
   "execution_count": null,
   "metadata": {},
   "outputs": [],
   "source": [
    "df.to_pickle('features_20201124.pkl')"
   ]
  },
  {
   "cell_type": "markdown",
   "metadata": {},
   "source": [
    "## Pandas profiling report"
   ]
  },
  {
   "cell_type": "code",
   "execution_count": null,
   "metadata": {},
   "outputs": [],
   "source": [
    "df = pd.read_pickle('features_20201124.pkl')\n",
    "profile = ProfileReport(df, title='Pandas profiling report')\n",
    "profile.to_file('features_20201124.html')"
   ]
  },
  {
   "cell_type": "markdown",
   "metadata": {},
   "source": [
    "## Pearson correlation coefficient (PCC)"
   ]
  },
  {
   "cell_type": "code",
   "execution_count": null,
   "metadata": {},
   "outputs": [],
   "source": [
    "df = pd.read_pickle('features_20201124.pkl')\n",
    "df.corr(method='pearson').cvr.sort_values()"
   ]
  }
 ],
 "metadata": {
  "kernelspec": {
   "display_name": "Python 3",
   "language": "python",
   "name": "python3"
  },
  "language_info": {
   "codemirror_mode": {
    "name": "ipython",
    "version": 3
   },
   "file_extension": ".py",
   "mimetype": "text/x-python",
   "name": "python",
   "nbconvert_exporter": "python",
   "pygments_lexer": "ipython3",
   "version": "3.6.3"
  }
 },
 "nbformat": 4,
 "nbformat_minor": 2
}
