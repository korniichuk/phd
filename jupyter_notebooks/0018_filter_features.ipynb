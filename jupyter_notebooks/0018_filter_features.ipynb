{
 "cells": [
  {
   "cell_type": "markdown",
   "metadata": {},
   "source": [
    "# Filter features"
   ]
  },
  {
   "cell_type": "code",
   "execution_count": null,
   "metadata": {},
   "outputs": [],
   "source": [
    "import pandas as pd\n",
    "from pandas_profiling import ProfileReport"
   ]
  },
  {
   "cell_type": "code",
   "execution_count": null,
   "metadata": {},
   "outputs": [],
   "source": [
    "df = pd.read_pickle('features_20201124.pkl')"
   ]
  },
  {
   "cell_type": "code",
   "execution_count": null,
   "metadata": {},
   "outputs": [],
   "source": [
    "del df['language']\n",
    "del df['smog_score']\n",
    "\n",
    "del df['ari_score']\n",
    "del df['coleman_liau_score']\n",
    "del df['new_dale_chall_score']\n",
    "del df['flesch_score']\n",
    "del df['flesch_kincaid_score']\n",
    "del df['lix_score']\n",
    "del df['asl_flesch']\n",
    "del df['asw_flesch']\n",
    "del df['asl_fog']\n",
    "\n",
    "del df['new_dale_chall_class']\n",
    "del df['pmw']\n",
    "del df['acw']\n",
    "del df['asw']\n",
    "del df['words']\n",
    "del df['characters']\n",
    "del df['syllables']\n",
    "\n",
    "del df['strain_score']\n",
    "del df['acs']\n",
    "del df['ass']\n",
    "del df['ppw_fog']"
   ]
  },
  {
   "cell_type": "markdown",
   "metadata": {},
   "source": [
    "### Save to pickle file"
   ]
  },
  {
   "cell_type": "code",
   "execution_count": null,
   "metadata": {},
   "outputs": [],
   "source": [
    "df.to_pickle('filtered_20201125.pkl')"
   ]
  },
  {
   "cell_type": "markdown",
   "metadata": {},
   "source": [
    "## Pandas profiling report"
   ]
  },
  {
   "cell_type": "code",
   "execution_count": null,
   "metadata": {},
   "outputs": [],
   "source": [
    "profile = ProfileReport(df, title='Pandas profiling report')"
   ]
  },
  {
   "cell_type": "code",
   "execution_count": null,
   "metadata": {},
   "outputs": [],
   "source": [
    "profile.to_file('filter_20210106.html')"
   ]
  }
 ],
 "metadata": {
  "kernelspec": {
   "display_name": "Python 3",
   "language": "python",
   "name": "python3"
  },
  "language_info": {
   "codemirror_mode": {
    "name": "ipython",
    "version": 3
   },
   "file_extension": ".py",
   "mimetype": "text/x-python",
   "name": "python",
   "nbconvert_exporter": "python",
   "pygments_lexer": "ipython3",
   "version": "3.6.3"
  }
 },
 "nbformat": 4,
 "nbformat_minor": 2
}
