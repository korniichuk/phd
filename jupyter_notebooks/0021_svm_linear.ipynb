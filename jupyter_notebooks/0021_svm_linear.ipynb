{
 "cells": [
  {
   "cell_type": "markdown",
   "metadata": {},
   "source": [
    "# Linear SVM"
   ]
  },
  {
   "cell_type": "code",
   "execution_count": null,
   "metadata": {},
   "outputs": [],
   "source": [
    "import pandas as pd\n",
    "from sklearn import metrics\n",
    "from sklearn.model_selection import train_test_split\n",
    "from sklearn.svm import LinearSVC"
   ]
  },
  {
   "cell_type": "code",
   "execution_count": null,
   "metadata": {},
   "outputs": [],
   "source": [
    "df = pd.read_pickle('cvr_prediction_20201228.pkl')"
   ]
  },
  {
   "cell_type": "code",
   "execution_count": null,
   "metadata": {},
   "outputs": [],
   "source": [
    "feature_col_names = ['ari_class', 'bormuth_score', 'bormuth_class', 'coleman_liau_class',\n",
    "                     'flesch_class', 'flesch_kincaid_class', 'fog_score', 'fog_class',\n",
    "                     'lix_class', 'rix_score', 'rix_class', 'smog_class', 'strain_class',\n",
    "                     'aws', 'pdw', 'pew', 'ppw', 'psw', 'puw', 'sentences']\n",
    "predicted_class_names = ['cvr_class']\n",
    "\n",
    "x = df[feature_col_names].values\n",
    "y = df[predicted_class_names].values\n",
    "\n",
    "x_train, x_test, y_train, y_test = train_test_split(x, y, test_size=0.3, random_state=42) "
   ]
  },
  {
   "cell_type": "markdown",
   "metadata": {},
   "source": [
    "## Validate distibution"
   ]
  },
  {
   "cell_type": "code",
   "execution_count": null,
   "metadata": {},
   "outputs": [],
   "source": [
    "print('{:.2f}% in training set'.format((len(x_train) / len(df)) * 100))\n",
    "print('{:.2f}% in test set'.format((len(x_test) / len(df)) * 100))"
   ]
  },
  {
   "cell_type": "code",
   "execution_count": null,
   "metadata": {},
   "outputs": [],
   "source": [
    "print('Original 0: {} ({:.2f}%)'.format(len(df.loc[df.cvr_class == 0]),\n",
    "                                        (len(df.loc[df.cvr_class == 0]) / len(df)) * 100.0))\n",
    "print('Original 1: {} ({:.2f}%)'.format(len(df.loc[df.cvr_class == 1]),\n",
    "                                        (len(df.loc[df.cvr_class == 1]) / len(df)) * 100.0))"
   ]
  },
  {
   "cell_type": "code",
   "execution_count": null,
   "metadata": {},
   "outputs": [],
   "source": [
    "print('Training 0: {} ({:.2f}%)'.format(len(y_train[y_train[:] == 0]),\n",
    "                                        (len(y_train[y_train[:] == 0]) / len(y_train) * 100.0)))\n",
    "print('Training 1: {} ({:.2f}%)'.format(len(y_train[y_train[:] == 1]),\n",
    "                                        (len(y_train[y_train[:] == 1]) / len(y_train) * 100.0)))"
   ]
  },
  {
   "cell_type": "code",
   "execution_count": null,
   "metadata": {},
   "outputs": [],
   "source": [
    "print('Test 0: {} ({:.2f}%)'.format(len(y_test[y_test[:] == 0]),\n",
    "                                    (len(y_test[y_test[:] == 0]) / len(y_test) * 100.0)))\n",
    "print('Test 1: {} ({:.2f}%)'.format(len(y_test[y_test[:] == 1]),\n",
    "                                    (len(y_test[y_test[:] == 1]) / len(y_test) * 100.0)))"
   ]
  },
  {
   "cell_type": "markdown",
   "metadata": {},
   "source": [
    "## Train"
   ]
  },
  {
   "cell_type": "code",
   "execution_count": null,
   "metadata": {},
   "outputs": [],
   "source": [
    "model = LinearSVC(dual=False)\n",
    "model.fit(x_train,  y_train.ravel())\n",
    "svm_predict_test = model.predict(x_test)"
   ]
  },
  {
   "cell_type": "markdown",
   "metadata": {},
   "source": [
    "## Results"
   ]
  },
  {
   "cell_type": "code",
   "execution_count": null,
   "metadata": {},
   "outputs": [],
   "source": [
    "print('Confusion Matrix:')\n",
    "print('{}'.format(metrics.confusion_matrix(y_test, svm_predict_test, labels=[1, 0])))"
   ]
  },
  {
   "cell_type": "code",
   "execution_count": null,
   "metadata": {},
   "outputs": [],
   "source": [
    "print(metrics.classification_report(y_test, svm_predict_test, labels=[0,1]))"
   ]
  },
  {
   "cell_type": "code",
   "execution_count": null,
   "metadata": {},
   "outputs": [],
   "source": [
    "metrics.accuracy_score(y_test, svm_predict_test).round(6) # 0.7397260273972602"
   ]
  }
 ],
 "metadata": {
  "kernelspec": {
   "display_name": "Python 3",
   "language": "python",
   "name": "python3"
  },
  "language_info": {
   "codemirror_mode": {
    "name": "ipython",
    "version": 3
   },
   "file_extension": ".py",
   "mimetype": "text/x-python",
   "name": "python",
   "nbconvert_exporter": "python",
   "pygments_lexer": "ipython3",
   "version": "3.6.3"
  }
 },
 "nbformat": 4,
 "nbformat_minor": 2
}
