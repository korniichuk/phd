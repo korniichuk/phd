{
 "cells": [
  {
   "cell_type": "markdown",
   "metadata": {},
   "source": [
    "# Figures correlation\n",
    "**Version:** 0.2a1  \n",
    "Features: `puw`, `aws`, `sentences`, `pdw`"
   ]
  },
  {
   "cell_type": "code",
   "execution_count": null,
   "metadata": {},
   "outputs": [],
   "source": [
    "import pandas as pd\n",
    "import matplotlib.pyplot as plt \n",
    "from sklearn.linear_model import LinearRegression\n",
    "\n",
    "%matplotlib inline"
   ]
  },
  {
   "cell_type": "code",
   "execution_count": null,
   "metadata": {},
   "outputs": [],
   "source": [
    "df = pd.read_pickle('cvr_prediction_20201228.pkl')"
   ]
  },
  {
   "cell_type": "markdown",
   "metadata": {},
   "source": [
    "### `puw`"
   ]
  },
  {
   "cell_type": "code",
   "execution_count": null,
   "metadata": {},
   "outputs": [],
   "source": [
    "reg = LinearRegression(normalize=True)\n",
    "reg.fit(df[['puw']], df['cvr'])\n",
    "y_pred = reg.predict(df[['puw']])"
   ]
  },
  {
   "cell_type": "code",
   "execution_count": null,
   "metadata": {},
   "outputs": [],
   "source": [
    "plt.figure(figsize=(9, 6))\n",
    "plt.rc('font', size=12)\n",
    "plt.rc('axes', labelsize=14)\n",
    "plt.scatter(df.puw, df.cvr, color='#808080')\n",
    "plt.xlabel('puw')\n",
    "plt.ylabel('cvr')\n",
    "plt.plot(df.puw, y_pred, color='#000000')\n",
    "plt.savefig('figure_2_puw.jpg')"
   ]
  },
  {
   "cell_type": "markdown",
   "metadata": {},
   "source": [
    "### `aws`"
   ]
  },
  {
   "cell_type": "code",
   "execution_count": null,
   "metadata": {},
   "outputs": [],
   "source": [
    "reg = LinearRegression(normalize=True)\n",
    "reg.fit(df[['aws']], df['cvr'])\n",
    "y_pred = reg.predict(df[['aws']])"
   ]
  },
  {
   "cell_type": "code",
   "execution_count": null,
   "metadata": {},
   "outputs": [],
   "source": [
    "plt.figure(figsize=(9, 6))\n",
    "plt.rc('font', size=12)\n",
    "plt.rc('axes', labelsize=14)\n",
    "plt.scatter(df.aws, df.cvr, color='#808080')\n",
    "plt.xlabel('aws')\n",
    "plt.ylabel('cvr')\n",
    "plt.plot(df.aws, y_pred, color='#000000')\n",
    "plt.savefig('figure_2_aws.jpg')"
   ]
  },
  {
   "cell_type": "markdown",
   "metadata": {},
   "source": [
    "### `sentences`"
   ]
  },
  {
   "cell_type": "code",
   "execution_count": null,
   "metadata": {},
   "outputs": [],
   "source": [
    "reg = LinearRegression(normalize=True)\n",
    "reg.fit(df[['sentences']], df['cvr'])\n",
    "y_pred = reg.predict(df[['sentences']])"
   ]
  },
  {
   "cell_type": "code",
   "execution_count": null,
   "metadata": {},
   "outputs": [],
   "source": [
    "plt.figure(figsize=(9, 6))\n",
    "plt.rc('font', size=12)\n",
    "plt.rc('axes', labelsize=14)\n",
    "plt.scatter(df.sentences, df.cvr, color='#808080')\n",
    "plt.xlabel('sentences')\n",
    "plt.ylabel('cvr')\n",
    "plt.plot(df.sentences, y_pred, color='#000000')\n",
    "plt.savefig('figure_2_sentences.jpg')"
   ]
  },
  {
   "cell_type": "markdown",
   "metadata": {},
   "source": [
    "### `pdw`"
   ]
  },
  {
   "cell_type": "code",
   "execution_count": null,
   "metadata": {},
   "outputs": [],
   "source": [
    "reg = LinearRegression(normalize=True)\n",
    "reg.fit(df[['pdw']], df['cvr'])\n",
    "y_pred = reg.predict(df[['pdw']])"
   ]
  },
  {
   "cell_type": "code",
   "execution_count": null,
   "metadata": {},
   "outputs": [],
   "source": [
    "plt.figure(figsize=(9, 6))\n",
    "plt.rc('font', size=12)\n",
    "plt.rc('axes', labelsize=14)\n",
    "plt.scatter(df.pdw, df.cvr, color='#808080')\n",
    "plt.xlabel('pdw')\n",
    "plt.ylabel('cvr')\n",
    "plt.plot(df.pdw, y_pred, color='#000000')\n",
    "plt.savefig('figure_2_pdw.jpg')"
   ]
  }
 ],
 "metadata": {
  "kernelspec": {
   "display_name": "Python 3",
   "language": "python",
   "name": "python3"
  },
  "language_info": {
   "codemirror_mode": {
    "name": "ipython",
    "version": 3
   },
   "file_extension": ".py",
   "mimetype": "text/x-python",
   "name": "python",
   "nbconvert_exporter": "python",
   "pygments_lexer": "ipython3",
   "version": "3.6.3"
  }
 },
 "nbformat": 4,
 "nbformat_minor": 2
}
