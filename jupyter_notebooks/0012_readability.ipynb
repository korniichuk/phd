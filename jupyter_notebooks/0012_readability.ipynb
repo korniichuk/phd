{
 "cells": [
  {
   "cell_type": "markdown",
   "metadata": {},
   "source": [
    "# Readability"
   ]
  },
  {
   "cell_type": "code",
   "execution_count": null,
   "metadata": {},
   "outputs": [],
   "source": [
    "import os\n",
    "\n",
    "import pandas as pd\n",
    "from pandas_profiling import ProfileReport\n",
    "\n",
    "from promovolt.readability import ari, bormuth, colemanLiau, daleChall, flesch, fleschKincaid, fog, lix, rix, smog, strain\n",
    "from promovolt.readability import readabilityValuesInterpreter"
   ]
  },
  {
   "cell_type": "code",
   "execution_count": null,
   "metadata": {},
   "outputs": [],
   "source": [
    "df = pd.read_pickle('clustering_20201116.pkl')  # 465 examples"
   ]
  },
  {
   "cell_type": "code",
   "execution_count": null,
   "metadata": {},
   "outputs": [],
   "source": [
    "df['label'] = df.label_lancaster\n",
    "df = df[['text', 'language', 'views', 'conversions', 'cvr', 'label']]"
   ]
  },
  {
   "cell_type": "markdown",
   "metadata": {},
   "source": [
    "## Step 1: Calculate readability"
   ]
  },
  {
   "cell_type": "code",
   "execution_count": null,
   "metadata": {},
   "outputs": [],
   "source": [
    "language = 'en'\n",
    "localization = 'en'\n",
    "pathCompoundWordsDictEn = os.path.abspath('promovolt/resources/compound_words_en.txt')\n",
    "pathDaleChallListEn = os.path.abspath('promovolt/resources/dale-chall_simple_words_en-1.0.txt')\n",
    "pathAbbreviationsDictEn = os.path.abspath('promovolt/resources/abbreviations_en.txt')"
   ]
  },
  {
   "cell_type": "markdown",
   "metadata": {},
   "source": [
    "### Add columns with readability features "
   ]
  },
  {
   "cell_type": "code",
   "execution_count": null,
   "metadata": {},
   "outputs": [],
   "source": [
    "def dale_chall_score(text):\n",
    "    return daleChall(text, pathDaleChallListEn)[1]\n",
    "\n",
    "def fog_score(text):\n",
    "    return fog(text, language, pathCompoundWordsDictEn)[0]\n",
    "\n",
    "def lix_score(text):\n",
    "    return lix(text, language)[1]\n",
    "\n",
    "def rix_score(text):\n",
    "    return rix(text, language)[1]\n",
    "\n",
    "def smog_score(text):\n",
    "    return smog(text, pathAbbreviationsDictEn)[0]\n",
    "\n",
    "def ari_class(score):\n",
    "    return readabilityValuesInterpreter(localization, ariScore=score)\n",
    "\n",
    "def bormuth_class(score):\n",
    "    return readabilityValuesInterpreter(localization, bormuthScore=score)\n",
    "\n",
    "def coleman_liau_class(score):\n",
    "    return readabilityValuesInterpreter(localization, colemanLiauScore=score)\n",
    "\n",
    "def dale_chall_class(score):\n",
    "    return readabilityValuesInterpreter(localization, daleChallScore=score)\n",
    "\n",
    "def flesch_class(score):\n",
    "    return readabilityValuesInterpreter(localization, fleschScore=score)\n",
    "\n",
    "def flesch_kincaid_class(score):\n",
    "    return readabilityValuesInterpreter(localization, fleschKincaidScore=score)\n",
    "\n",
    "def fog_class(score):\n",
    "    return readabilityValuesInterpreter(localization, fogScore=score)\n",
    "\n",
    "def lix_class(score):\n",
    "    return readabilityValuesInterpreter(localization, lixScore=score)\n",
    "\n",
    "def rix_class(score):\n",
    "    return readabilityValuesInterpreter(localization, rixScore=score)\n",
    "\n",
    "def smog_class(text):\n",
    "    smog_statistics = smog(text, pathAbbreviationsDictEn)\n",
    "    if smog_statistics[0] is None: \n",
    "        return readabilityValuesInterpreter(localization, TPWC=smog_statistics[1])\n",
    "    else:\n",
    "        return readabilityValuesInterpreter(localization, smogScore=smog_statistics[0])\n",
    "\n",
    "def strain_class(score):\n",
    "    return readabilityValuesInterpreter(localization, strainScore=score)"
   ]
  },
  {
   "cell_type": "code",
   "execution_count": null,
   "metadata": {},
   "outputs": [],
   "source": [
    "df['ari_score'] = df.text.apply(ari)\n",
    "df['ari_class'] = df.ari_score.apply(ari_class)\n",
    "\n",
    "df['bormuth_score'] = df.text.apply(bormuth, pathDaleChallDict=pathDaleChallListEn)\n",
    "df['bormuth_class'] = df.bormuth_score.apply(bormuth_class)\n",
    "\n",
    "df['coleman_liau_score'] =  df.text.apply(colemanLiau)\n",
    "df['coleman_liau_class'] =  df.coleman_liau_score.apply(coleman_liau_class)\n",
    "\n",
    "df['flesch_score'] = df.text.apply(flesch, language=language)\n",
    "df['flesch_class'] = df.flesch_score.apply(flesch_class)\n",
    "\n",
    "df['flesch_kincaid_score'] = df.text.apply(fleschKincaid)\n",
    "df['flesch_kincaid_class'] = df.flesch_kincaid_score.apply(flesch_kincaid_class)\n",
    "\n",
    "df['fog_score'] = df.text.apply(fog_score)\n",
    "df['fog_class'] = df.fog_score.apply(fog_class)\n",
    "\n",
    "df['lix_score'] = df.text.apply(lix_score)\n",
    "df['lix_class'] = df.lix_score.apply(lix_class)\n",
    "\n",
    "df['new_dale_chall_score'] = df.text.apply(dale_chall_score)\n",
    "df['new_dale_chall_class'] = df.new_dale_chall_score.apply(dale_chall_class)\n",
    "\n",
    "df['rix_score'] = df.text.apply(rix_score)\n",
    "df['rix_class'] = df.rix_score.apply(rix_class)\n",
    "\n",
    "df['smog_score'] = df.text.apply(smog_score)\n",
    "df['smog_class'] = df.text.apply(smog_class)\n",
    "\n",
    "df['strain_score'] = df.text.apply(strain)\n",
    "df['strain_class'] = df.strain_score.apply(strain_class)"
   ]
  },
  {
   "cell_type": "markdown",
   "metadata": {},
   "source": [
    "### Add `readability` column"
   ]
  },
  {
   "cell_type": "code",
   "execution_count": null,
   "metadata": {},
   "outputs": [],
   "source": [
    "df['readability_score'] = (df['ari_class'] + df['bormuth_class'] + df['coleman_liau_class'] +\n",
    "                           df['flesch_class'] + df['flesch_kincaid_class'] + df['fog_class'] +\n",
    "                           df['lix_class'] + df['new_dale_chall_class'] + df['rix_class'] +\n",
    "                           df['smog_class'] + df['strain_class']) / 11"
   ]
  },
  {
   "cell_type": "markdown",
   "metadata": {},
   "source": [
    "### Save to pickle file"
   ]
  },
  {
   "cell_type": "code",
   "execution_count": null,
   "metadata": {},
   "outputs": [],
   "source": [
    "df.to_pickle('readability_20201124.pkl')"
   ]
  },
  {
   "cell_type": "markdown",
   "metadata": {},
   "source": [
    "## Step 2: Pandas profiling report"
   ]
  },
  {
   "cell_type": "code",
   "execution_count": null,
   "metadata": {},
   "outputs": [],
   "source": [
    "df = pd.read_pickle('readability_20201124.pkl')"
   ]
  },
  {
   "cell_type": "code",
   "execution_count": null,
   "metadata": {},
   "outputs": [],
   "source": [
    "df = df[['cvr',\n",
    "    'ari_score', 'ari_class', 'bormuth_score', 'bormuth_class',\n",
    "    'coleman_liau_score', 'coleman_liau_class', \n",
    "    'flesch_score', 'flesch_class', 'flesch_kincaid_score', 'flesch_kincaid_class',\n",
    "    'fog_score', 'fog_class', 'lix_score', 'lix_class',\n",
    "    'new_dale_chall_score', 'new_dale_chall_class',\n",
    "    'rix_score', 'rix_class', 'smog_score', 'smog_class',\n",
    "    'strain_score', 'strain_class']]"
   ]
  },
  {
   "cell_type": "code",
   "execution_count": null,
   "metadata": {},
   "outputs": [],
   "source": [
    "profile = ProfileReport(df, title='Pandas profiling report')"
   ]
  },
  {
   "cell_type": "code",
   "execution_count": null,
   "metadata": {},
   "outputs": [],
   "source": [
    "profile.to_file('readability_20201228.html')"
   ]
  },
  {
   "cell_type": "markdown",
   "metadata": {},
   "source": [
    "## Step 3: Correlation coefficients for CVR"
   ]
  },
  {
   "cell_type": "code",
   "execution_count": null,
   "metadata": {},
   "outputs": [],
   "source": [
    "df.corr(method='pearson')['cvr'].abs().sort_values(ascending=False)  # pearson | spearman | kendall"
   ]
  },
  {
   "cell_type": "code",
   "execution_count": null,
   "metadata": {},
   "outputs": [],
   "source": [
    "df.corr(method='pearson')['cvr'].sort_values(ascending=False)  # pearson | spearman | kendall"
   ]
  }
 ],
 "metadata": {
  "kernelspec": {
   "display_name": "Python 3",
   "language": "python",
   "name": "python3"
  },
  "language_info": {
   "codemirror_mode": {
    "name": "ipython",
    "version": 3
   },
   "file_extension": ".py",
   "mimetype": "text/x-python",
   "name": "python",
   "nbconvert_exporter": "python",
   "pygments_lexer": "ipython3",
   "version": "3.6.3"
  }
 },
 "nbformat": 4,
 "nbformat_minor": 2
}
