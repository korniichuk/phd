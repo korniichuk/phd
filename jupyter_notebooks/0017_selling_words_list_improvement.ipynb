{
 "cells": [
  {
   "cell_type": "markdown",
   "metadata": {},
   "source": [
    "# Selling words list improvement\n",
    "## Stemming"
   ]
  },
  {
   "cell_type": "code",
   "execution_count": null,
   "metadata": {},
   "outputs": [],
   "source": [
    "from nltk.stem import PorterStemmer"
   ]
  },
  {
   "cell_type": "code",
   "execution_count": null,
   "metadata": {},
   "outputs": [],
   "source": [
    "with open('promovolt/resources/selling_words_en-1.0.txt', 'r') as f:\n",
    "    words = f.read().splitlines()\n",
    "    \n",
    "stemmer = PorterStemmer()\n",
    "\n",
    "for i, word in enumerate(words):\n",
    "    words[i] = stemmer.stem(word)\n",
    "    \n",
    "words = list(set(words))\n",
    "\n",
    "words.sort()"
   ]
  },
  {
   "cell_type": "code",
   "execution_count": null,
   "metadata": {},
   "outputs": [],
   "source": [
    "len(words)"
   ]
  },
  {
   "cell_type": "markdown",
   "metadata": {},
   "source": [
    "### Save to file"
   ]
  },
  {
   "cell_type": "code",
   "execution_count": null,
   "metadata": {},
   "outputs": [],
   "source": [
    "with open('promovolt/resources/selling_words_en_stemmed.txt', 'w') as f:\n",
    "    for i, word in enumerate(words):\n",
    "        if i < (len(words) - 1):\n",
    "            f.write(word + '\\n')\n",
    "        else:\n",
    "            f.write(word)"
   ]
  }
 ],
 "metadata": {
  "kernelspec": {
   "display_name": "Python 3",
   "language": "python",
   "name": "python3"
  },
  "language_info": {
   "codemirror_mode": {
    "name": "ipython",
    "version": 3
   },
   "file_extension": ".py",
   "mimetype": "text/x-python",
   "name": "python",
   "nbconvert_exporter": "python",
   "pygments_lexer": "ipython3",
   "version": "3.6.3"
  }
 },
 "nbformat": 4,
 "nbformat_minor": 2
}
